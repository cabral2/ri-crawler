{
 "cells": [
  {
   "cell_type": "markdown",
   "metadata": {},
   "source": [
    "# ☯ Coding Dojo ☯"
   ]
  },
  {
   "cell_type": "markdown",
   "metadata": {},
   "source": [
    "<img style=\"float:left\" src=\"imgs/vamos_coletar.png\">\n",
    "## Regras\n",
    "\n",
    "Ponto de participação, poderá perdido se:\n",
    "\n",
    "    - Aluno atrasado (ver política de atraso na especificação)\n",
    "    - Recusar participação como piloto/copiloto\n",
    "        - Ou não querer sair do computador, quando solicitado :-)\n",
    "    - Demorar para sair quando solicitado\n",
    "    - Parar de participar por:\n",
    "        - Uso de outro computador\n",
    "        - Uso de celular\n",
    "        - Usar a internet\n",
    "        - Conversa\n"
   ]
  },
  {
   "cell_type": "markdown",
   "metadata": {},
   "source": [
    "Antes de entregar, certifique-se que tenha executado todos os comandos/códigos deste Jupyter. É obrigatório que todas as saídas tenham sido apresentadas. Perda de 3 pontos caso não tenham feito isso."
   ]
  },
  {
   "cell_type": "markdown",
   "metadata": {},
   "source": [
    "# Dependencias"
   ]
  },
  {
   "cell_type": "markdown",
   "metadata": {},
   "source": [
    "Se necessário, instale o python3 e o pip3 abaixo usando `sudo apt-get install python3 python3-pip`.  Execute abaixo para instalar o [BeautifulSoup](https://www.crummy.com/software/BeautifulSoup/). Qualquer linha de comando/código como a de baixo, você pode executá-la a selecionando e pressionando `ctrl+enter` ❣️."
   ]
  },
  {
   "cell_type": "code",
   "execution_count": 14,
   "metadata": {},
   "outputs": [
    {
     "name": "stdout",
     "output_type": "stream",
     "text": [
      "Looking in indexes: https://pypi.org/simple, https://nexus.quintoandar.com.br/repository/pip-5a/, https://quintoandar.github.io/python-package-server/\n",
      "Requirement already satisfied: bs4 in /Users/luccasilva/pyenv/versions/3.9.9/lib/python3.9/site-packages (0.0.1)\n",
      "Requirement already satisfied: beautifulsoup4 in /Users/luccasilva/pyenv/versions/3.9.9/lib/python3.9/site-packages (from bs4) (4.11.1)\n",
      "Requirement already satisfied: soupsieve>1.2 in /Users/luccasilva/pyenv/versions/3.9.9/lib/python3.9/site-packages (from beautifulsoup4->bs4) (2.3.2.post1)\n",
      "\u001b[33mWARNING: You are using pip version 21.2.4; however, version 22.0.4 is available.\n",
      "You should consider upgrading via the '/Users/luccasilva/pyenv/versions/3.9.9/bin/python3.9 -m pip install --upgrade pip' command.\u001b[0m\n",
      "Looking in indexes: https://pypi.org/simple, https://nexus.quintoandar.com.br/repository/pip-5a/, https://quintoandar.github.io/python-package-server/\n",
      "Requirement already satisfied: requests in /Users/luccasilva/pyenv/versions/3.9.9/lib/python3.9/site-packages (2.27.1)\n",
      "Requirement already satisfied: certifi>=2017.4.17 in /Users/luccasilva/pyenv/versions/3.9.9/lib/python3.9/site-packages (from requests) (2021.10.8)\n",
      "Requirement already satisfied: urllib3<1.27,>=1.21.1 in /Users/luccasilva/pyenv/versions/3.9.9/lib/python3.9/site-packages (from requests) (1.26.9)\n",
      "Requirement already satisfied: charset-normalizer~=2.0.0 in /Users/luccasilva/pyenv/versions/3.9.9/lib/python3.9/site-packages (from requests) (2.0.12)\n",
      "Requirement already satisfied: idna<4,>=2.5 in /Users/luccasilva/pyenv/versions/3.9.9/lib/python3.9/site-packages (from requests) (3.3)\n",
      "\u001b[33mWARNING: You are using pip version 21.2.4; however, version 22.0.4 is available.\n",
      "You should consider upgrading via the '/Users/luccasilva/pyenv/versions/3.9.9/bin/python3.9 -m pip install --upgrade pip' command.\u001b[0m\n",
      "Looking in indexes: https://pypi.org/simple, https://nexus.quintoandar.com.br/repository/pip-5a/, https://quintoandar.github.io/python-package-server/\n",
      "\u001b[33mWARNING: Retrying (Retry(total=4, connect=None, read=None, redirect=None, status=None)) after connection broken by 'ProtocolError('Connection aborted.', ConnectionResetError(54, 'Connection reset by peer'))': /repository/pip-5a/lxml/\u001b[0m\n",
      "\u001b[33mWARNING: Retrying (Retry(total=3, connect=None, read=None, redirect=None, status=None)) after connection broken by 'SSLError(SSLEOFError(8, 'EOF occurred in violation of protocol (_ssl.c:1129)'))': /repository/pip-5a/lxml/\u001b[0m\n",
      "\u001b[33mWARNING: Retrying (Retry(total=2, connect=None, read=None, redirect=None, status=None)) after connection broken by 'SSLError(SSLEOFError(8, 'EOF occurred in violation of protocol (_ssl.c:1129)'))': /repository/pip-5a/lxml/\u001b[0m\n",
      "\u001b[33mWARNING: Retrying (Retry(total=1, connect=None, read=None, redirect=None, status=None)) after connection broken by 'SSLError(SSLEOFError(8, 'EOF occurred in violation of protocol (_ssl.c:1129)'))': /repository/pip-5a/lxml/\u001b[0m\n",
      "\u001b[33mWARNING: Retrying (Retry(total=0, connect=None, read=None, redirect=None, status=None)) after connection broken by 'SSLError(SSLEOFError(8, 'EOF occurred in violation of protocol (_ssl.c:1129)'))': /repository/pip-5a/lxml/\u001b[0m\n",
      "Collecting lxml\n",
      "  Downloading lxml-4.8.0-cp39-cp39-macosx_10_15_x86_64.whl (4.6 MB)\n",
      "\u001b[K     |████████████████████████████████| 4.6 MB 3.6 MB/s eta 0:00:01\n",
      "\u001b[?25hInstalling collected packages: lxml\n",
      "Successfully installed lxml-4.8.0\n",
      "\u001b[33mWARNING: You are using pip version 21.2.4; however, version 22.0.4 is available.\n",
      "You should consider upgrading via the '/Users/luccasilva/pyenv/versions/3.9.9/bin/python3.9 -m pip install --upgrade pip' command.\u001b[0m\n"
     ]
    }
   ],
   "source": [
    "!pip3 install bs4\n",
    "!pip3 install requests\n",
    "!pip3 install lxml"
   ]
  },
  {
   "cell_type": "markdown",
   "metadata": {},
   "source": [
    "Caso de comando não encontrado `pip3` use `pip`. "
   ]
  },
  {
   "cell_type": "markdown",
   "metadata": {},
   "source": [
    "# Coletor"
   ]
  },
  {
   "cell_type": "markdown",
   "metadata": {},
   "source": [
    "<img src=\"imgs/arquitetura_coletor.png\">"
   ]
  },
  {
   "cell_type": "markdown",
   "metadata": {},
   "source": [
    "Você deverá completar a implementação das três classes abaixo para fazer o coletor: `Domain`, `Scheduler` e `PageFetcher`. Conforme figura acima, o `Scheduler` é responsável por armazenar as filas de URLs a serem requisitadas; o PageFetcher serão *threads* responsáveis por fazer as requisições das URLs obtidas por meio do escalonador (instancia da classe `Scheduler`). A classe `Domain` armazena informações importantes sobre o servidor a serem usadas no momento do escalonamento das URLs."
   ]
  },
  {
   "cell_type": "markdown",
   "metadata": {},
   "source": [
    "## Classe `Domain`"
   ]
  },
  {
   "cell_type": "markdown",
   "metadata": {},
   "source": [
    "<figure style=\"text-align:center\">\n",
    "    <img src=\"imgs/estrutura_coletor.png\">\n",
    "    <caption>Fonte: Baeza-Yates e Ribeiro-Neto, 2011 </caption>\n",
    "</figure>"
   ]
  },
  {
   "cell_type": "markdown",
   "metadata": {},
   "source": [
    "Antes de começar a fazer o escalonador (classe `Scheduler`) devemos implementar a classe que representa os domínios. Conforme visto na figura acima, o escalonador possuirá diversas filas, uma para cada servidor.  Em nosso caso, o servidor será um domínio - que você irá implementar na classe `Domain` do arquivo `domain.py`. \n",
    "\n",
    "O escalonador percorrerá cada servidor e obterá o primeiro da fila do primeiro servidor acessível. O servidor é acessível obdecendo o limite de tempo entre requisições (em segundos, usando o atributo `time_limit_between_requests`). \n",
    "\n",
    "Nesta atividade você irá implementar a classe `Domain`, que já possui os seguintes atributos: \n",
    "\n",
    "- *time_limit_between_requests*: Limite entre requisições (int)\n",
    "- *nam_domain*: Nome do domínio (String)\n",
    "- *time_last_access*: [Objeto Datetime](https://docs.python.org/3/library/datetime.html#datetime-objects) informando da data/hora do último acesso \n",
    "\n",
    "O prefixo da variável sempre irá denotar o tipo da mesma."
   ]
  },
  {
   "cell_type": "markdown",
   "metadata": {},
   "source": [
    "**Atividade 1 - classe `Domain`**: Complete a classe `Domain` implementando os métodos/atributos calculados descritos a seguir. Logo após, execute o ❣️ teste unitário ❣️ para verificar se os métodos/atributos calculados foram implementados conforme esperado.\n",
    "\n",
    "- **accessed_now**: Método que modifica o último acesso com a data/hora atual usando um [objeto datetime](https://docs.python.org/3/library/datetime.html#datetime-objects)\n",
    "- **time_since_last_access**: Atributo calculado que retorna um [objeto TimeDelta](https://docs.python.org/3/library/datetime.html#timedelta-objects) com a diferença da data atual e a data do último acesso. Veja os exemplos de uso do TimeDelta na sua documentação\n",
    "- **is_accessible**: Método que verdadeiro se o domínio estiver acessível"
   ]
  },
  {
   "cell_type": "markdown",
   "metadata": {},
   "source": [
    "Os métodos `count_fetched_page` e `has_finished_crawl` já estão implementados. Execute o teste unitário a seguir. Veja que o comando abaixo executa o teste unitário presente no arquivo `crawler/scheduler_test.py`. Analise-o para entender como implementamos testes unitários."
   ]
  },
  {
   "cell_type": "code",
   "execution_count": 2,
   "metadata": {},
   "outputs": [
    {
     "name": "stdout",
     "output_type": "stream",
     "text": [
      "Verificando acesso a um dominio já requisitado (após espera)\n",
      "aguardando 10 segundos...\n",
      ".\n",
      "----------------------------------------------------------------------\n",
      "Ran 1 test in 10.005s\n",
      "\n",
      "OK\n"
     ]
    }
   ],
   "source": [
    "!python3 -m crawler.scheduler_test DomainTest.test_domain"
   ]
  },
  {
   "cell_type": "markdown",
   "metadata": {},
   "source": [
    "**Atividade 2 - métodos `__hash__` e `__eq__` da classe `Domain`**: A fila será implementada por um dicionario ordenado ([OrderedDict](https://docs.python.org/2/library/collections.html#collections.OrderedDict)) em que a chave será um objeto da classe domínio e o valor serão uma lista de URLs. Para que seja possível a busca do domínio, você deverá implementar os métodos `__hash__` e `__eq__` de forma similar ao seguinte exemplo: "
   ]
  },
  {
   "cell_type": "code",
   "execution_count": 3,
   "metadata": {},
   "outputs": [
    {
     "name": "stdout",
     "output_type": "stream",
     "text": [
      "True\n"
     ]
    }
   ],
   "source": [
    "from collections import OrderedDict\n",
    "class Xuxu():\n",
    "    def __str__(self):\n",
    "        return \"xuxuuu\"\n",
    "    \n",
    "    def __hash__(self):\n",
    "        return hash(\"xuxu\")\n",
    "    def __eq__(self, x):\n",
    "        return x == \"xuxu\"\n",
    "d = OrderedDict()\n",
    "d[Xuxu()] = 'A'\n",
    "print(\"xuxu\" in d)"
   ]
  },
  {
   "cell_type": "markdown",
   "metadata": {},
   "source": [
    "No nosso caso, deve ser permitido fazer a busca no dicionário pelo nome do domínio ou pelo objeto, ou seja, após a implementação desta atividade, o seguinte código irá funcionar corretamente:"
   ]
  },
  {
   "cell_type": "code",
   "execution_count": 4,
   "metadata": {},
   "outputs": [
    {
     "name": "stdout",
     "output_type": "stream",
     "text": [
      "oi\n",
      "oi\n"
     ]
    }
   ],
   "source": [
    "from crawler.domain import Domain\n",
    "from collections import OrderedDict\n",
    "\n",
    "obj_domain = Domain(\"oi.com\",10)\n",
    "dic_x = OrderedDict()\n",
    "dic_x[obj_domain] = \"lala\"\n",
    "dic_x[\"oi.com\"] = \"oi\"\n",
    "\n",
    "#abaixo, em ambos os casos, será encontrado/impresso a string \"oi\"\n",
    "print(dic_x[\"oi.com\"])\n",
    "print(dic_x[obj_domain])"
   ]
  },
  {
   "cell_type": "markdown",
   "metadata": {},
   "source": [
    "Lembre-se que, em nosso caso, o parametro do método `__eq__` pode ser um objeto da classe `Domain` ou uma string representando o nome do domínio. Caso faça alguma modificação no código, você deverá reiniciar o kernel para que o efeito seja visto no código acima (para reiniciar, clique em Kernel->Restart). Isso ocorre que, uma vez dado import em um módulo, esse modulo não é alterado no Jupyter caso você faça uma modificação no código."
   ]
  },
  {
   "cell_type": "markdown",
   "metadata": {},
   "source": [
    "## Classe `Scheduler`"
   ]
  },
  {
   "cell_type": "markdown",
   "metadata": {},
   "source": [
    "Agora você irá implementar o escalonador. Essa classe será responsável por gerir as URLs.\n",
    "Para isso, será implementado as filas por servidores conforme apresentado na figura da seção anterior.\n",
    "Para isso, utilizaremos um OrderedDict em que as chaves são os servidores (objeto da classe `Domain`) e o valor será uma lista de tuplas com as URLs e sua profundidade. Com o objetivo de armazenar as URLs de forma estruturada, as mesmas **não serão** string, ao invés disso, serão objetos da classe `ParseResult` - essa classe é retornada do método [urlparse](https://docs.python.org/3/library/urllib.parse.html). Veja um exemplo abaixo.\n",
    "\n"
   ]
  },
  {
   "cell_type": "code",
   "execution_count": 5,
   "metadata": {},
   "outputs": [],
   "source": [
    "from crawler.domain import Domain\n",
    "from crawler.scheduler import Scheduler\n",
    "from urllib.parse import urlparse\n",
    "\n",
    "dict_filas_por_servidor = {Domain(\"www.globo.com\",10):[\n",
    "                                                (urlparse(\"http://www.globo.com/esporte\"),1),\n",
    "                                                (urlparse(\"http://www.globo.com/noticia_um\"),2),\n",
    "                                                (urlparse(\"http://www.globo.com/noticia_dois\"),3),\n",
    "                                                (urlparse(\"http://www.globo.com/noticia_tres\"),3),\n",
    "                                                ],\n",
    "                            Domain(\"www.cnpq.br\",10):[(urlparse(\"http://www.cnpq.br/pesquisadores\"),1),\n",
    "                                               (urlparse(\"http://www.cnpq.br/bolsas\"),1)]\n",
    "                          }"
   ]
  },
  {
   "cell_type": "markdown",
   "metadata": {},
   "source": [
    "Assim, a classe `Scheduler`, no arquivo `scheduler.py` possui os seguintes atributos: \n",
    "\n",
    "- `str_usr_agent`: Nome do `User agent`. Usualmente, é o nome do navegador, no nosso caso, será o nome do coletor (usualmente, terminado em `bot`)\n",
    "- `page_limit`: Número de páginas a serem coletadas\n",
    "- `depth_limit`: Profundidade máxima a ser coletada\n",
    "- `page_count`: Quantidade de páginas já coletadas\n",
    "- `dic_url_per_domain`: Fila de URLs por domínio (explicado anteriormente)\n",
    "- `set_discovered_urls`: Conjunto de URLs descobertas, ou seja, que foi extraída em algum HTML e já adicionadas na fila - mesmo se já ela foi retirada da fila. A URL armazenada deve ser uma string.\n",
    "- `dic_robots_per_domain`: Dicionário armazenando, para cada domínio, o objeto representando as regras obtidas no `robots.txt`"
   ]
  },
  {
   "cell_type": "markdown",
   "metadata": {},
   "source": [
    "**Atividade 3 - Método `can_add_page`**: Esse método irá retornar verdadeiro caso seja possível adicionar a página `obj_url` (objeto da classe ParseResult) que foi coletada na profundidade `depth`. Para que seja possível adicionar na lista, esta pagina não deve ter sido descoberta e nem com a profundidade maior que o limite. Este método será testado por teste unitário apenas após a implementação da adição e obtenção das URLs."
   ]
  },
  {
   "cell_type": "markdown",
   "metadata": {},
   "source": [
    "**Atividade 4 método `add_new_page` - Adicionar nova página**:  Este método retorna falso caso não seja possível adicionar a página (por meio do método `can_add_page`) e verdadeiro, caso contrário. Caso seja possível, deve-se adicionar a url `obj_url` na fila `dic_url_per_domain`. Lembre-se da estrutura do dicionário `dic_url_per_domain`. Não esqueça de armazenar que esta URL já foi descoberta. Este método será testado por teste unitário apenas após a implementação da obtenção das URLs. Lembre-se de como trabalhar com [dicionários](https://daniel-hasan.github.io/cefet-web-grad/classes/python2/#mais-colecoes)"
   ]
  },
  {
   "cell_type": "markdown",
   "metadata": {},
   "source": [
    "**Atividade 5 método `get_next_url` - obtém a próxima URL da fila**: Este método retona uma tupla `url,profundidade` da próxima URL a ser coletada por meio da fila `dic_url_per_domain` retirando este item da fila. Lembre-se que: \n",
    "    \n",
    "- Ele deverá retornar a primeira URL do primeiro servidor que estiver acessível. \n",
    "- Você deve indicar que o servidor foi acessado \n",
    "- Caso a fila deste servidor esteja vazia, elimine-o do dicionário\n",
    "- Caso não encontre a URL, [coloque a Thread para esperar](https://docs.python.org/2/library/time.html#time.sleep) e, logo após, procure novamente \n",
    "\n",
    "Logo após, você já pode executar o teste unitário para verificar se a obtenção e adição de URLs está correta. Caso haja algum problema, existem já alguns prints comentados no código, descomente-os para verificar se o fluxo está ocorrendo da forma correta. Você deverá entregar sem a exibição desses prints (caso contrário, perderá pontos)."
   ]
  },
  {
   "cell_type": "code",
   "execution_count": 6,
   "metadata": {},
   "outputs": [
    {
     "name": "stdout",
     "output_type": "stream",
     "text": [
      "Verificação da ordem das URLs...\n",
      "Resgatando a segunda página do mesmo dominio...\n",
      "Tempo esperado: 20 segundos\n",
      ".\n",
      "----------------------------------------------------------------------\n",
      "Ran 1 test in 20.004s\n",
      "\n",
      "OK\n"
     ]
    }
   ],
   "source": [
    "!python3 -m crawler.scheduler_test SchedulerTest.test_add_remove_page"
   ]
  },
  {
   "cell_type": "markdown",
   "metadata": {},
   "source": [
    "**Atividade 6 método `can_fetch_page`**: Este método deve retornar verdadeiro caso a url (Objeto `ParseResult`), passada como parâmetro, pode ser coletada de acordo com o `Robots.txt` do domínio. Para isso, você deve usar o [`RobotFileParser`](https://docs.python.org/3/library/urllib.robotparser.html) para requisitar a URL do `robots.txt` deste domínio. Por razões de performance, você só poderá requisitar o robots.txt uma única vez por domínio. Assim, use o `dic_robots_per_domain` apropriadamente. Execute o teste unitário abaixo para verificar seu funcionamento. "
   ]
  },
  {
   "cell_type": "code",
   "execution_count": 7,
   "metadata": {},
   "outputs": [
    {
     "name": "stdout",
     "output_type": "stream",
     "text": [
      ".\n",
      "----------------------------------------------------------------------\n",
      "Ran 1 test in 75.812s\n",
      "\n",
      "OK\n"
     ]
    }
   ],
   "source": [
    "!python3 -m crawler.scheduler_test SchedulerTest.test_can_fetch"
   ]
  },
  {
   "cell_type": "markdown",
   "metadata": {},
   "source": [
    "**Atividade 7 - Inicialização das sementes no construtor**: No construtor da classe `Scheduler` você deve adicionar as páginas sementes na fila. Tais sementes são passadas pelo parametro `arr_urls_seeds` do construtor. "
   ]
  },
  {
   "cell_type": "code",
   "execution_count": 8,
   "metadata": {},
   "outputs": [
    {
     "name": "stdout",
     "output_type": "stream",
     "text": [
      ".\n",
      "----------------------------------------------------------------------\n",
      "Ran 1 test in 0.000s\n",
      "\n",
      "OK\n"
     ]
    }
   ],
   "source": [
    "!python3 -m crawler.scheduler_test SchedulerTest.test_init"
   ]
  },
  {
   "cell_type": "markdown",
   "metadata": {},
   "source": [
    "Logo após, utize a anotação @synchronized aonde julgar necessário para transformar em ThreadSafe."
   ]
  },
  {
   "cell_type": "markdown",
   "metadata": {},
   "source": [
    "## PageFetcher"
   ]
  },
  {
   "cell_type": "markdown",
   "metadata": {},
   "source": [
    "**Atividade 8 - Efetuar a requisição - método `request_url`:** Neste método você irá fazer a requisição usando a api [requests](https://requests.readthedocs.io/en/master/). Além disso, deve-se informar no cabeçalho (em `User-Agent`) o nome do coletor. O método deverá retornar o conteúdo (em binário) apenas se o conteúdo for HTML (ver no cabeçalho da resposta o tipo do conteúdo). Caso não seja, ele deverá retornar `None`. "
   ]
  },
  {
   "cell_type": "code",
   "execution_count": 10,
   "metadata": {},
   "outputs": [
    {
     "name": "stdout",
     "output_type": "stream",
     "text": [
      ".\n",
      "----------------------------------------------------------------------\n",
      "Ran 1 test in 1.948s\n",
      "\n",
      "OK\n"
     ]
    }
   ],
   "source": [
    "!python3 -m crawler.page_fetcher_test PageFetcherTest.test_request_url"
   ]
  },
  {
   "cell_type": "markdown",
   "metadata": {},
   "source": [
    "**Atividade 9 extração das URLs por meio do método `discover_links`**: A partir do conteúdo (texto em binário) `bin_str_content` deve-se extrair seus os links. O conteúdo esta em binário, pois, o BeautifulSoup, internamente, verifica o encoding por meio da [tag meta](https://www.w3schools.com/tags/att_meta_charset.asp) e converte para UTF8. A URL da página coletada é um objeto ParseResult `obj_url` que está na profundidade `depth`. \n",
    "\n",
    "Para cada URL extraída, você deverá retornar uma tupla com a URL (objeto ParseResult) e a sua profundidade. Utilize o comando `yield` para retornar essas tuplas. A profundidade é calculada de por meio de  `obj_url` e `depth`, conforme comentado em sala de aula. \n",
    "\n",
    "Para a extração dos links, use o [CSS Selector do BeautifulSoup](https://www.crummy.com/software/BeautifulSoup/bs4/doc/#css-selectors). Seletor CSS é uma expressão que define quais elementos HTML serão estilizados pelo CSS. No *Beatifulsoup* eles são usados para selecionar quais tags serão extraídas. Veja o exemplo de uso e brinque abaixo. Caso precise, veja aqui um pouco de seletores CSS: [slides de Web](https://fegemo.github.io/cefet-front-end/classes/css2/#outros-seletores), [documentação MDN](https://developer.mozilla.org/en-US/docs/Web/CSS/CSS_Selectors)."
   ]
  },
  {
   "cell_type": "code",
   "execution_count": 1,
   "metadata": {},
   "outputs": [],
   "source": [
    "from bs4 import BeautifulSoup"
   ]
  },
  {
   "cell_type": "code",
   "execution_count": 2,
   "metadata": {},
   "outputs": [
    {
     "name": "stdout",
     "output_type": "stream",
     "text": [
      "Simulação da extração de links da página https://www.pudim.com.br na profundidade nível 2...\n",
      ".\n",
      "----------------------------------------------------------------------\n",
      "Ran 1 test in 0.012s\n",
      "\n",
      "OK\n"
     ]
    }
   ],
   "source": [
    "!python3 -m crawler.page_fetcher_test PageFetcherTest.test_discover_links"
   ]
  },
  {
   "cell_type": "markdown",
   "metadata": {},
   "source": [
    "**Atividade 10 - método que solicita uma nova URL**: Por meio do método `crawl_new_url` você deverá utilizar os métodos previamente implementados para:\n",
    "\n",
    "- Solicitar ao escalonador uma nova URL\n",
    "- Fazer a requisição e obter o resultado (em binário)\n",
    "- Caso a URL seja um HTML válido, imprima esta URL e extraia os seus links"
   ]
  },
  {
   "cell_type": "markdown",
   "metadata": {},
   "source": [
    "**Atividade 11 - método run**: Este método deve coletar páginas enquanto a coleta não foi finalizada"
   ]
  },
  {
   "cell_type": "markdown",
   "metadata": {},
   "source": [
    "**Atividade 12 - um pequeno teste para finalizar:** Use as sementes do seu grupo e crie abaixo um escalonador e 5 PageFetchers para extrair 30 páginas. Imprima também o tempo gasto total."
   ]
  },
  {
   "cell_type": "code",
   "execution_count": 2,
   "metadata": {},
   "outputs": [
    {
     "name": "stdout",
     "output_type": "stream",
     "text": [
      "url:  https://edition.cnn.com/ depth:  2\n",
      "url:  https://edition.cnn.com/world depth:  2\n",
      "url:  https://edition.cnn.com/politics depth:  2\n",
      "url:  https://edition.cnn.com/business depth:  2\n",
      "url:  https://edition.cnn.com/health depth:  2\n",
      "url:  https://edition.cnn.com/entertainment depth:  2\n",
      "url:  https://edition.cnn.com/style depth:  2\n",
      "url:  https://edition.cnn.com/travel depth:  2\n",
      "url:  https://edition.cnn.com/sport depth:  2\n",
      "url:  https://edition.cnn.com/videos depth:  2\n",
      "url:  https://edition.cnn.com/audio depth:  2\n",
      "url:  https://edition.cnn.com/audio depth:  2\n",
      "url:  https://edition.cnn.com/us.cnn.com?hpt=header_edition-picker depth:  2\n",
      "url:  https://edition.cnn.com/edition.cnn.com?hpt=header_edition-picker depth:  2\n",
      "url:  https://edition.cnn.com/arabic.cnn.com?hpt=header_edition-picker depth:  2\n",
      "url:  https://edition.cnn.com/cnnespanol.cnn.com?hpt=header_edition-picker depth:  2\n",
      "url:  https://www.nytimes.com/#after-dfp-ad-top depth:  2\n",
      "url:  https://www.nytimes.com/#site-content depth:  2\n",
      "url:  https://www.nytimes.com/#site-index depth:  2\n",
      "url:  https://www.nytimes.com/ depth:  2\n",
      "url:  https://www.nytimes.com/ depth:  2\n",
      "url:  https://www.nytimes.com/international?action=click&region=Editions&pgtype=Homepage depth:  2\n",
      "url:  https://www.nytimes.com/ca?action=click&region=Editions&pgtype=Homepage depth:  2\n",
      "url:  https://www.nytimes.com/es/ depth:  2\n",
      "url:  https://cn.nytimes.com depth:  0\n",
      "url:  https://myaccount.nytimes.com/auth/login?response_type=cookie&client_id=vi&redirect_uri=https%3A%2F%2Fwww.nytimes.com%2Fsubscription%2Fmultiproduct%2Flp8KQUS.html%3FcampaignId%3D7JFJX&asset=masthead depth:  0\n",
      "url:  https://www.nytimes.com/section/todayspaper depth:  2\n",
      "url:  https://myaccount.nytimes.com/auth/login?response_type=cookie&client_id=vi&redirect_uri=https%3A%2F%2Fwww.nytimes.com%2Fsubscription%2Fmultiproduct%2Flp8KQUS.html%3FcampaignId%3D7JFJX&asset=masthead depth:  0\n",
      "url:  https://www.nytimes.com/ depth:  2\n",
      "url:  https://www.nytimes.com/ depth:  2\n",
      "url:  https://www.nytimes.com/sectionworld depth:  2\n",
      "url:  https://www.nytimes.com/sectionus depth:  2\n",
      "url:  https://www.nytimes.com/sectionpolitics depth:  2\n",
      "url:  https://www.nytimes.com/sectionnyregion depth:  2\n",
      "url:  https://www.nytimes.com/sectionbusiness depth:  2\n",
      "url:  https://www.nytimes.com/sectionopinion depth:  2\n",
      "url:  https://www.nytimes.com/sectiontechnology depth:  2\n",
      "url:  https://www.nytimes.com/sectionscience depth:  2\n",
      "url:  https://www.nytimes.com/sectionhealth depth:  2\n",
      "url:  https://www.nytimes.com/sectionsports depth:  2\n",
      "url:  https://www.nytimes.com/sectionarts depth:  2\n",
      "url:  https://www.nytimes.com/sectionbooks depth:  2\n",
      "url:  https://www.nytimes.com/sectionstyle depth:  2\n",
      "url:  https://www.nytimes.com/sectionfood depth:  2\n",
      "url:  https://www.nytimes.com/sectiontravel depth:  2\n",
      "url:  https://www.nytimes.com/sectionmagazine depth:  2\n",
      "url:  https://www.nytimes.com/sectiont-magazine depth:  2\n",
      "url:  https://www.nytimes.com/sectionrealestate depth:  2\n",
      "url:  https://www.nytimes.com/video depth:  2\n",
      "url:  https://www.nytimes.com/sectionworld depth:  2\n",
      "url:  https://www.nytimes.com/sectionus depth:  2\n",
      "url:  https://www.nytimes.com/sectionpolitics depth:  2\n",
      "url:  https://www.nytimes.com/sectionnyregion depth:  2\n",
      "url:  https://www.nytimes.com/sectionbusiness depth:  2\n",
      "url:  https://www.nytimes.com/sectionopinion depth:  2\n",
      "url:  https://www.nytimes.com/sectiontechnology depth:  2\n",
      "url:  https://www.nytimes.com/sectionscience depth:  2\n",
      "url:  https://www.nytimes.com/sectionhealth depth:  2\n",
      "url:  https://www.nytimes.com/sectionsports depth:  2\n",
      "url:  https://www.nytimes.com/sectionarts depth:  2\n",
      "url:  https://www.nytimes.com/sectionbooks depth:  2\n",
      "url:  https://www.nytimes.com/sectionstyle depth:  2\n",
      "url:  https://www.nytimes.com/sectionfood depth:  2\n",
      "url:  https://www.nytimes.com/sectiontravel depth:  2\n",
      "url:  https://www.nytimes.com/sectionmagazine depth:  2\n",
      "url:  https://www.nytimes.com/sectiont-magazine depth:  2\n",
      "url:  https://www.nytimes.com/sectionrealestate depth:  2\n",
      "url:  https://www.nytimes.com/video depth:  2\n",
      "url:  https://www.nytimes.com/live/2022/05/08/world/ukraine-russia-war-news depth:  2\n",
      "url:  https://www.nytimes.com/live/2022/05/08/world/ukraine-russia-war-news depth:  2\n",
      "url:  https://www.nytimes.com/2022/05/08/world/europe/g7-nations-russia-oil.html depth:  2\n",
      "url:  https://www.nytimes.com/live/2022/05/08/world/ukraine-russia-war-news depth:  2\n",
      "url:  https://www.nytimes.com/2022/05/08/world/europe/russia-may-9-victory-day-ukraine.html depth:  2\n",
      "url:  https://www.nytimes.com/2022/05/08/business/russia-oligarch-yacht-assets.html depth:  2\n",
      "url:  https://www.nytimes.com/2022/05/08/us/politics/roe-wade-supreme-court-abortion.html depth:  2\n",
      "url:  https://www.nytimes.com/2022/05/08/business/media/supreme-court-leak-press-protections.html depth:  2\n",
      "url:  https://www.nytimes.com/2022/05/08/us/politics/midterms-abortion-pennsylvania.html depth:  2\n",
      "url:  https://www.nytimes.com/2022/05/08/business/media/supreme-court-leak-press-protections.html depth:  2\n",
      "url:  https://www.nytimes.com/2022/05/08/health/emergency-rooms-teen-mental-health.html depth:  2\n",
      "url:  https://www.nytimes.com/2022/04/23/health/mental-health-crisis-teens.html depth:  2\n",
      "url:  https://www.nytimes.com/video/science/100000007871187/mental-health-pandemic-teens.html depth:  2\n",
      "url:  https://www.nytimes.com/2022/05/08/us/politics/covid-pills-global-aids-hiv.html depth:  2\n",
      "url:  https://www.nytimes.com/2022/05/08/nyregion/kathy-hochul-positive-covid.html depth:  2\n",
      "url:  https://www.nytimes.com/2022/05/08/us/politics/covid-pills-global-aids-hiv.html depth:  2\n",
      "url:  https://www.nytimes.com/interactive/2021/us/covid-cases.html depth:  2\n",
      "url:  https://www.nytimes.com/interactive/2021/us/covid-cases.html depth:  2\n",
      "url:  https://www.nytimes.com/interactive/2021/us/covid-cases.html depth:  2\n",
      "url:  https://www.nytimes.com/interactive/2020/us/covid-19-vaccine-doses.html depth:  2\n",
      "url:  https://www.nytimes.com/interactive/2021/world/covid-cases.html depth:  2\n",
      "url:  https://www.nytimes.com/interactive/2021/us/missouri-covid-cases.html depth:  2\n",
      "url:  https://www.nytimes.com/interactive/2021/us/maine-covid-cases.html depth:  2\n",
      "url:  https://www.nytimes.com/interactive/2021/us/utah-covid-cases.html depth:  2\n",
      "url:  https://www.nytimes.com/interactive/2021/us/hawaii-covid-cases.html depth:  2\n",
      "url:  https://www.nytimes.com/interactive/2021/us/covid-cases-deaths-tracker.html depth:  2\n",
      "url:  https://www.nytimes.com/interactive/2021/us/missouri-covid-cases.html depth:  2\n",
      "url:  https://www.nytimes.com/interactive/2021/us/maine-covid-cases.html depth:  2\n",
      "url:  https://www.nytimes.com/interactive/2021/us/utah-covid-cases.html depth:  2\n",
      "url:  https://www.nytimes.com/interactive/2021/us/hawaii-covid-cases.html depth:  2\n",
      "url:  https://www.nytimes.com/interactive/2021/us/covid-cases-deaths-tracker.html depth:  2\n",
      "url:  https://www.nytimes.com/interactive/2021/world/covid-vaccinations-tracker.html depth:  2\n",
      "url:  https://www.nytimes.com/2022/05/07/world/americas/un-loan-project-services.html depth:  2\n",
      "url:  https://www.nytimes.com/interactive/2022/05/08/arts/design/dutch-still-life.html depth:  2\n",
      "url:  https://www.nytimes.com/interactive/2022/05/06/briefing/the-weekender.html depth:  2\n",
      "url:  https://www.nytimes.com/interactive/2022/05/06/briefing/news-quiz-supreme-court-roe-ohio-election.html depth:  2\n",
      "url:  https://www.nytimes.com/interactive/2022/05/06/briefing/the-weekender.html depth:  2\n",
      "url:  https://www.nytimes.com/section/opinion depth:  2\n",
      "url:  https://www.nytimes.com/2022/05/07/opinion/abortion-supreme-court-puritanism.html depth:  2\n",
      "url:  https://www.nytimes.com/2022/05/08/opinion/mask-mandate-over.html depth:  2\n",
      "url:  https://www.nytimes.com/2022/05/08/opinion/dementia-elder-care.html depth:  2\n",
      "url:  https://www.nytimes.com/2022/05/08/opinion/tiktok-twitter-china-bytedance.html depth:  2\n",
      "url:  https://www.nytimes.com/2022/05/08/opinion/supreme-court-oppression.html depth:  2\n",
      "url:  https://www.nytimes.com/2022/05/06/opinion/mothers-day-grief.html depth:  2\n",
      "url:  https://www.nytimes.com/2022/05/06/opinion/roe-supreme-court.html depth:  2\n",
      "url:  https://www.nytimes.com/2022/05/06/opinion/biden-ukraine-leaks.html depth:  2\n",
      "url:  https://www.nytimes.com/2022/05/07/opinion/mothers-day.html depth:  2\n",
      "url:  https://www.nytimes.com/2022/05/06/opinion/roe-v-wade-constitution.html depth:  2\n",
      "url:  https://www.nytimes.com/2022/05/07/opinion/how-roe-warped-the-republic.html depth:  2\n",
      "url:  https://www.nytimes.com/2022/05/07/opinion/sunday/child-tax-credit-social-security.html depth:  2\n",
      "url:  https://www.nytimes.com/2022/05/07/opinion/republican-policy-after-roe.html depth:  2\n",
      "url:  https://www.nytimes.com/2022/05/07/opinion/grief.html depth:  2\n",
      "url:  https://www.nytimes.com/2022/05/07/opinion/conservatives-gop-family-values.html depth:  2\n",
      "url:  https://www.nytimes.com/2022/05/07/opinion/roe-abortion-crime.html depth:  2\n",
      "url:  https://www.nytimes.com/2022/05/08/sports/baseball/byron-buxton-twins.html depth:  2\n",
      "url:  https://www.nytimes.com/2022/05/07/well/live/adult-friendships-number.html depth:  2\n",
      "url:  https://www.nytimes.com/2022/05/08/arts/television/saturday-night-live-benedict-cumberbatch.html depth:  2\n",
      "url:  https://www.nytimes.com/#after-dfp-ad-mid1 depth:  2\n",
      "url:  https://www.nytimes.com/2022/05/08/podcasts/the-daily/kayaking-trip-alaska-sunday-read.html depth:  2\n",
      "url:  https://www.nytimes.com/2022/05/08/arts/music/popcast-drill-rap.html depth:  2\n",
      "url:  https://www.nytimes.com/2022/05/03/opinion/reproductive-rights-roe-the-argument.html depth:  2\n",
      "url:  https://www.nytimes.com/2022/05/05/us/politics/ben-ray-lujan-stroke-interview.html depth:  2\n",
      "url:  https://www.nytimes.com/2022/05/07/nyregion/ed-koch-gay-secrets.html depth:  2\n",
      "url:  https://www.nytimes.com/2022/05/08/world/americas/bahamas-sandals-resort-americans-dead.html depth:  2\n",
      "url:  https://www.nytimes.com/2022/05/08/arts/television/ncuti-gatwa-doctor-who.html depth:  2\n",
      "url:  https://www.nytimes.com/2022/05/08/world/asia/afghanistan-eid-taliban.html depth:  2\n",
      "url:  https://www.nytimes.com/2022/05/08/nyregion/inmate-death-rikers.html depth:  2\n",
      "url:  https://www.nytimes.com/2022/05/08/obituaries/george-perez-dead.html depth:  2\n",
      "url:  https://www.nytimes.com/2022/05/08/world/middleeast/israel-suspects-arrested-attack.html depth:  2\n",
      "url:  https://www.nytimes.com/2022/05/08/arts/music/ric-parnell-dead.html depth:  2\n",
      "url:  https://www.nytimes.com/live/2022/05/07/sports/kentucky-derby-horse-race depth:  2\n",
      "url:  https://www.nytimes.com/2022/05/08/business/baby-formula-shortage-retailers.html depth:  2\n",
      "url:  https://www.nytimes.com/2022/05/07/world/europe/france-president-emmanuel-macron-inauguration.html depth:  2\n",
      "url:  https://www.nytimes.com/2022/05/07/us/adderall-fentanyl-osu-deaths.html depth:  2\n",
      "url:  https://www.nytimes.com/#after-dfp-ad-mid2 depth:  2\n",
      "url:  https://www.nytimes.com/2022/05/07/well/family/motherhood-psychiatrist-mental-health.html depth:  2\n",
      "url:  https://www.nytimes.com/interactive/2022/05/05/well/family/motherhood-advice-quotes.html depth:  2\n",
      "url:  https://www.nytimes.com/2020/04/15/parenting/children-skin-color-race.html depth:  2\n",
      "url:  https://www.nytimes.com/2020/05/05/parenting/mommy-brain-science.html depth:  2\n",
      "url:  https://www.nytimes.com/interactive/2020/05/05/parenting/how-motherhood-changed-us.html depth:  2\n",
      "url:  https://www.nytimes.com/2022/05/06/style/eric-kugler-dean-hansell-wedding.html depth:  2\n",
      "url:  https://www.nytimes.com/2022/05/06/nyregion/comic-books-vincent-zurzolo.html depth:  2\n",
      "url:  https://www.nytimes.com/2022/05/04/travel/subscription-services.html depth:  2\n",
      "url:  https://www.nytimes.com/2022/05/08/sports/basketball/deandre-ayton-phoenix-suns.html depth:  2\n",
      "url:  https://www.nytimes.com/2022/05/05/books/books-about-abortion.html depth:  2\n",
      "url:  https://www.nytimes.com/#after-dfp-ad-mid3 depth:  2\n",
      "url:  https://www.nytimes.com/puzzles/spelling-bee depth:  2\n",
      "url:  https://www.nytimes.com/games/wordle/index.html depth:  2\n",
      "url:  https://www.nytimes.com/crosswords depth:  2\n",
      "url:  https://www.nytimes.com/subscription/games depth:  2\n",
      "url:  https://www.nytimes.com/puzzles/letter-boxed depth:  2\n",
      "url:  https://www.nytimes.com/puzzles/tiles depth:  2\n",
      "url:  https://www.nytimes.com/#after-dfp-ad-bottom depth:  2\n",
      "url:  https://help.nytimes.com/hc/en-us/articles/115014792127-Copyright-notice depth:  0\n",
      "url:  https://www.nytco.com/ depth:  0\n",
      "url:  https://help.nytimes.com/hc/en-us/articles/115015385887-Contact-Us depth:  0\n",
      "url:  https://help.nytimes.com/hc/en-us/articles/115015727108-Accessibility depth:  0\n",
      "url:  https://www.nytco.com/careers/ depth:  0\n",
      "url:  https://nytmediakit.com/ depth:  0\n",
      "url:  https://www.tbrandstudio.com/ depth:  0\n",
      "url:  https://www.nytimes.com/privacy/cookie-policy#how-do-i-manage-trackers depth:  2\n",
      "url:  https://www.nytimes.com/privacy/privacy-policy depth:  2\n",
      "url:  https://help.nytimes.com/hc/en-us/articles/115014893428-Terms-of-service depth:  0\n",
      "url:  https://help.nytimes.com/hc/en-us/articles/115014893968-Terms-of-sale depth:  0\n",
      "url:  https://www.nytimes.com/sitemap depth:  2\n",
      "url:  https://www.nytimes.com/ca/?action=click&region=Footer&pgtype=Homepage depth:  2\n",
      "url:  https://www.nytimes.com/international/?action=click&region=Footer&pgtype=Homepage depth:  2\n",
      "url:  https://help.nytimes.com/hc/en-us depth:  0\n",
      "url:  https://www.nytimes.com/subscription?campaignId=37WXW depth:  2\n",
      "tempo gasto:  2.6105899810791016\n"
     ]
    }
   ],
   "source": [
    "from crawler.scheduler import Scheduler\n",
    "from crawler.page_fetcher import PageFetcher\n",
    "from multiprocessing import Process\n",
    "from urllib.parse import urlparse\n",
    "import time\n",
    "\n",
    "start = time.time()\n",
    "\n",
    "page_limit = 30\n",
    "depth_limit = 2\n",
    "\n",
    "\n",
    "urls = ['https://edition.cnn.com/', 'https://www.nytimes.com/',\n",
    "        'https://www.bbc.com', 'https://www.g1.globo.com',\n",
    "        'https://www.r7.com/', 'https://www.em.com.br',\n",
    "        'https://www.estadao.com.br/']\n",
    "\n",
    "# https://stackoverflow.com/questions/1545050/python-one-line-for-expression\n",
    "urls_parsed = [urlparse(url) for url in urls]\n",
    "scheduler = Scheduler('Savinho/0.1', page_limit, depth_limit, urls_parsed)\n",
    "page_fetchers = [PageFetcher(scheduler) for _ in range(5)]\n",
    "\n",
    "\n",
    "processes = []\n",
    "\n",
    "for page_fetcher in page_fetchers:\n",
    "    p = Process(target=page_fetcher.run())\n",
    "    p.start()\n",
    "    processes.append(p)\n",
    "    \n",
    "for p in processes:\n",
    "    p.join()\n",
    "\n",
    "end = time.time()\n",
    "\n",
    "print('tempo gasto: ', end - start)"
   ]
  },
  {
   "cell_type": "markdown",
   "metadata": {},
   "source": [
    "# Bibliografia\n",
    "\n",
    "Baeza-Yates, Ricardo; Ribeiro-Neto, Berthier. **Modern information retrieval: the concepts and technology behind search**. ACM Press, 2011.\n",
    "\n",
    "Batista, Natércia ; Brandão, Michele ; Pinheiro, Michele ; Dalip, Daniel ; Moro, Mirella . **[Dados de Múltiplas Fontes da Web: coleta, integração e pré-processamento](https://sol.sbc.org.br/livros/index.php/sbc/catalog/download/8/19/58-1?inline=1)**. Minicursos do XXIV Simpósio Brasileiro de Sistemas Multimídia e Web. 1ed.: Sociedade Brasileira de Computação, 2018, v. , p. 153-192."
   ]
  }
 ],
 "metadata": {
  "interpreter": {
   "hash": "dc405a783b290eb124c16be9354043a02e5917b761a04c066d550cd9e9ef16d4"
  },
  "kernelspec": {
   "display_name": "Python 3.9.9 64-bit ('3.9.9')",
   "language": "python",
   "name": "python3"
  },
  "language_info": {
   "codemirror_mode": {
    "name": "ipython",
    "version": 3
   },
   "file_extension": ".py",
   "mimetype": "text/x-python",
   "name": "python",
   "nbconvert_exporter": "python",
   "pygments_lexer": "ipython3",
   "version": "3.9.9"
  }
 },
 "nbformat": 4,
 "nbformat_minor": 2
}
