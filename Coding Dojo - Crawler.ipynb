{
 "cells": [
  {
   "cell_type": "markdown",
   "metadata": {},
   "source": [
    "# ☯ Coding Dojo ☯"
   ]
  },
  {
   "cell_type": "markdown",
   "metadata": {},
   "source": [
    "<img style=\"float:left\" src=\"imgs/vamos_coletar.png\">\n",
    "## Regras\n",
    "\n",
    "Ponto de participação, poderá perdido se:\n",
    "\n",
    "    - Aluno atrasado (ver política de atraso na especificação)\n",
    "    - Recusar participação como piloto/copiloto\n",
    "        - Ou não querer sair do computador, quando solicitado :-)\n",
    "    - Demorar para sair quando solicitado\n",
    "    - Parar de participar por:\n",
    "        - Uso de outro computador\n",
    "        - Uso de celular\n",
    "        - Usar a internet\n",
    "        - Conversa\n"
   ]
  },
  {
   "cell_type": "markdown",
   "metadata": {},
   "source": [
    "Antes de entregar, certifique-se que tenha executado todos os comandos/códigos deste Jupyter. É obrigatório que todas as saídas tenham sido apresentadas. Perda de 3 pontos caso não tenham feito isso."
   ]
  },
  {
   "cell_type": "markdown",
   "metadata": {},
   "source": [
    "# Dependencias"
   ]
  },
  {
   "cell_type": "markdown",
   "metadata": {},
   "source": [
    "Se necessário, instale o python3 e o pip3 abaixo usando `sudo apt-get install python3 python3-pip`.  Execute abaixo para instalar o [BeautifulSoup](https://www.crummy.com/software/BeautifulSoup/). Qualquer linha de comando/código como a de baixo, você pode executá-la a selecionando e pressionando `ctrl+enter` ❣️."
   ]
  },
  {
   "cell_type": "code",
   "execution_count": 2,
   "metadata": {},
   "outputs": [
    {
     "name": "stdout",
     "output_type": "stream",
     "text": [
      "Requirement already satisfied: bs4 in c:\\users\\savio\\appdata\\local\\packages\\pythonsoftwarefoundation.python.3.9_qbz5n2kfra8p0\\localcache\\local-packages\\python39\\site-packages (0.0.1)\n",
      "Requirement already satisfied: beautifulsoup4 in c:\\users\\savio\\appdata\\local\\packages\\pythonsoftwarefoundation.python.3.9_qbz5n2kfra8p0\\localcache\\local-packages\\python39\\site-packages (from bs4) (4.11.1)\n",
      "Requirement already satisfied: soupsieve>1.2 in c:\\users\\savio\\appdata\\local\\packages\\pythonsoftwarefoundation.python.3.9_qbz5n2kfra8p0\\localcache\\local-packages\\python39\\site-packages (from beautifulsoup4->bs4) (2.3.2)\n"
     ]
    },
    {
     "name": "stderr",
     "output_type": "stream",
     "text": [
      "WARNING: You are using pip version 21.2.4; however, version 22.1 is available.\n",
      "You should consider upgrading via the 'C:\\Users\\savio\\AppData\\Local\\Microsoft\\WindowsApps\\PythonSoftwareFoundation.Python.3.9_qbz5n2kfra8p0\\python.exe -m pip install --upgrade pip' command.\n"
     ]
    },
    {
     "name": "stdout",
     "output_type": "stream",
     "text": [
      "Requirement already satisfied: requests in c:\\users\\savio\\appdata\\local\\packages\\pythonsoftwarefoundation.python.3.9_qbz5n2kfra8p0\\localcache\\local-packages\\python39\\site-packages (2.27.1)\n",
      "Requirement already satisfied: charset-normalizer~=2.0.0 in c:\\users\\savio\\appdata\\local\\packages\\pythonsoftwarefoundation.python.3.9_qbz5n2kfra8p0\\localcache\\local-packages\\python39\\site-packages (from requests) (2.0.12)\n",
      "Requirement already satisfied: urllib3<1.27,>=1.21.1 in c:\\users\\savio\\appdata\\local\\packages\\pythonsoftwarefoundation.python.3.9_qbz5n2kfra8p0\\localcache\\local-packages\\python39\\site-packages (from requests) (1.26.9)\n",
      "Requirement already satisfied: certifi>=2017.4.17 in c:\\users\\savio\\appdata\\local\\packages\\pythonsoftwarefoundation.python.3.9_qbz5n2kfra8p0\\localcache\\local-packages\\python39\\site-packages (from requests) (2021.10.8)\n",
      "Requirement already satisfied: idna<4,>=2.5 in c:\\users\\savio\\appdata\\local\\packages\\pythonsoftwarefoundation.python.3.9_qbz5n2kfra8p0\\localcache\\local-packages\\python39\\site-packages (from requests) (3.3)\n"
     ]
    },
    {
     "name": "stderr",
     "output_type": "stream",
     "text": [
      "WARNING: You are using pip version 21.2.4; however, version 22.1 is available.\n",
      "You should consider upgrading via the 'C:\\Users\\savio\\AppData\\Local\\Microsoft\\WindowsApps\\PythonSoftwareFoundation.Python.3.9_qbz5n2kfra8p0\\python.exe -m pip install --upgrade pip' command.\n"
     ]
    },
    {
     "name": "stdout",
     "output_type": "stream",
     "text": [
      "Requirement already satisfied: lxml in c:\\users\\savio\\appdata\\local\\packages\\pythonsoftwarefoundation.python.3.9_qbz5n2kfra8p0\\localcache\\local-packages\\python39\\site-packages (4.8.0)\n"
     ]
    },
    {
     "name": "stderr",
     "output_type": "stream",
     "text": [
      "WARNING: You are using pip version 21.2.4; however, version 22.1 is available.\n",
      "You should consider upgrading via the 'C:\\Users\\savio\\AppData\\Local\\Microsoft\\WindowsApps\\PythonSoftwareFoundation.Python.3.9_qbz5n2kfra8p0\\python.exe -m pip install --upgrade pip' command.\n"
     ]
    }
   ],
   "source": [
    "!pip3 install bs4\n",
    "!pip3 install requests\n",
    "!pip3 install lxml"
   ]
  },
  {
   "cell_type": "markdown",
   "metadata": {},
   "source": [
    "Caso de comando não encontrado `pip3` use `pip`. "
   ]
  },
  {
   "cell_type": "markdown",
   "metadata": {},
   "source": [
    "# Coletor"
   ]
  },
  {
   "cell_type": "markdown",
   "metadata": {},
   "source": [
    "<img src=\"imgs/arquitetura_coletor.png\">"
   ]
  },
  {
   "cell_type": "markdown",
   "metadata": {},
   "source": [
    "Você deverá completar a implementação das três classes abaixo para fazer o coletor: `Domain`, `Scheduler` e `PageFetcher`. Conforme figura acima, o `Scheduler` é responsável por armazenar as filas de URLs a serem requisitadas; o PageFetcher serão *threads* responsáveis por fazer as requisições das URLs obtidas por meio do escalonador (instancia da classe `Scheduler`). A classe `Domain` armazena informações importantes sobre o servidor a serem usadas no momento do escalonamento das URLs."
   ]
  },
  {
   "cell_type": "markdown",
   "metadata": {},
   "source": [
    "## Classe `Domain`"
   ]
  },
  {
   "cell_type": "markdown",
   "metadata": {},
   "source": [
    "<figure style=\"text-align:center\">\n",
    "    <img src=\"imgs/estrutura_coletor.png\">\n",
    "    <caption>Fonte: Baeza-Yates e Ribeiro-Neto, 2011 </caption>\n",
    "</figure>"
   ]
  },
  {
   "cell_type": "markdown",
   "metadata": {},
   "source": [
    "Antes de começar a fazer o escalonador (classe `Scheduler`) devemos implementar a classe que representa os domínios. Conforme visto na figura acima, o escalonador possuirá diversas filas, uma para cada servidor.  Em nosso caso, o servidor será um domínio - que você irá implementar na classe `Domain` do arquivo `domain.py`. \n",
    "\n",
    "O escalonador percorrerá cada servidor e obterá o primeiro da fila do primeiro servidor acessível. O servidor é acessível obdecendo o limite de tempo entre requisições (em segundos, usando o atributo `time_limit_between_requests`). \n",
    "\n",
    "Nesta atividade você irá implementar a classe `Domain`, que já possui os seguintes atributos: \n",
    "\n",
    "- *time_limit_between_requests*: Limite entre requisições (int)\n",
    "- *nam_domain*: Nome do domínio (String)\n",
    "- *time_last_access*: [Objeto Datetime](https://docs.python.org/3/library/datetime.html#datetime-objects) informando da data/hora do último acesso \n",
    "\n",
    "O prefixo da variável sempre irá denotar o tipo da mesma."
   ]
  },
  {
   "cell_type": "markdown",
   "metadata": {},
   "source": [
    "**Atividade 1 - classe `Domain`**: Complete a classe `Domain` implementando os métodos/atributos calculados descritos a seguir. Logo após, execute o ❣️ teste unitário ❣️ para verificar se os métodos/atributos calculados foram implementados conforme esperado.\n",
    "\n",
    "- **accessed_now**: Método que modifica o último acesso com a data/hora atual usando um [objeto datetime](https://docs.python.org/3/library/datetime.html#datetime-objects)\n",
    "- **time_since_last_access**: Atributo calculado que retorna um [objeto TimeDelta](https://docs.python.org/3/library/datetime.html#timedelta-objects) com a diferença da data atual e a data do último acesso. Veja os exemplos de uso do TimeDelta na sua documentação\n",
    "- **is_accessible**: Método que verdadeiro se o domínio estiver acessível"
   ]
  },
  {
   "cell_type": "markdown",
   "metadata": {},
   "source": [
    "Os métodos `count_fetched_page` e `has_finished_crawl` já estão implementados. Execute o teste unitário a seguir. Veja que o comando abaixo executa o teste unitário presente no arquivo `crawler/scheduler_test.py`. Analise-o para entender como implementamos testes unitários."
   ]
  },
  {
   "cell_type": "code",
   "execution_count": 3,
   "metadata": {},
   "outputs": [
    {
     "name": "stdout",
     "output_type": "stream",
     "text": [
      "Verificando acesso a um dominio já requisitado (após espera)\n",
      "aguardando 10 segundos...\n"
     ]
    },
    {
     "name": "stderr",
     "output_type": "stream",
     "text": [
      ".\n",
      "----------------------------------------------------------------------\n",
      "Ran 1 test in 10.002s\n",
      "\n",
      "OK\n"
     ]
    }
   ],
   "source": [
    "!python3 -m crawler.scheduler_test DomainTest.test_domain"
   ]
  },
  {
   "cell_type": "markdown",
   "metadata": {},
   "source": [
    "**Atividade 2 - métodos `__hash__` e `__eq__` da classe `Domain`**: A fila será implementada por um dicionario ordenado ([OrderedDict](https://docs.python.org/2/library/collections.html#collections.OrderedDict)) em que a chave será um objeto da classe domínio e o valor serão uma lista de URLs. Para que seja possível a busca do domínio, você deverá implementar os métodos `__hash__` e `__eq__` de forma similar ao seguinte exemplo: "
   ]
  },
  {
   "cell_type": "code",
   "execution_count": 4,
   "metadata": {},
   "outputs": [
    {
     "name": "stdout",
     "output_type": "stream",
     "text": [
      "True\n"
     ]
    }
   ],
   "source": [
    "from collections import OrderedDict\n",
    "class Xuxu():\n",
    "    def __str__(self):\n",
    "        return \"xuxuuu\"\n",
    "    \n",
    "    def __hash__(self):\n",
    "        return hash(\"xuxu\")\n",
    "    def __eq__(self, x):\n",
    "        return x == \"xuxu\"\n",
    "d = OrderedDict()\n",
    "d[Xuxu()] = 'A'\n",
    "print(\"xuxu\" in d)"
   ]
  },
  {
   "cell_type": "markdown",
   "metadata": {},
   "source": [
    "No nosso caso, deve ser permitido fazer a busca no dicionário pelo nome do domínio ou pelo objeto, ou seja, após a implementação desta atividade, o seguinte código irá funcionar corretamente:"
   ]
  },
  {
   "cell_type": "code",
   "execution_count": 5,
   "metadata": {},
   "outputs": [
    {
     "name": "stdout",
     "output_type": "stream",
     "text": [
      "oi\n",
      "oi\n"
     ]
    }
   ],
   "source": [
    "from crawler.domain import Domain\n",
    "from collections import OrderedDict\n",
    "\n",
    "obj_domain = Domain(\"oi.com\",10)\n",
    "dic_x = OrderedDict()\n",
    "dic_x[obj_domain] = \"lala\"\n",
    "dic_x[\"oi.com\"] = \"oi\"\n",
    "\n",
    "#abaixo, em ambos os casos, será encontrado/impresso a string \"oi\"\n",
    "print(dic_x[\"oi.com\"])\n",
    "print(dic_x[obj_domain])"
   ]
  },
  {
   "cell_type": "markdown",
   "metadata": {},
   "source": [
    "Lembre-se que, em nosso caso, o parametro do método `__eq__` pode ser um objeto da classe `Domain` ou uma string representando o nome do domínio. Caso faça alguma modificação no código, você deverá reiniciar o kernel para que o efeito seja visto no código acima (para reiniciar, clique em Kernel->Restart). Isso ocorre que, uma vez dado import em um módulo, esse modulo não é alterado no Jupyter caso você faça uma modificação no código."
   ]
  },
  {
   "cell_type": "markdown",
   "metadata": {},
   "source": [
    "## Classe `Scheduler`"
   ]
  },
  {
   "cell_type": "markdown",
   "metadata": {},
   "source": [
    "Agora você irá implementar o escalonador. Essa classe será responsável por gerir as URLs.\n",
    "Para isso, será implementado as filas por servidores conforme apresentado na figura da seção anterior.\n",
    "Para isso, utilizaremos um OrderedDict em que as chaves são os servidores (objeto da classe `Domain`) e o valor será uma lista de tuplas com as URLs e sua profundidade. Com o objetivo de armazenar as URLs de forma estruturada, as mesmas **não serão** string, ao invés disso, serão objetos da classe `ParseResult` - essa classe é retornada do método [urlparse](https://docs.python.org/3/library/urllib.parse.html). Veja um exemplo abaixo.\n",
    "\n"
   ]
  },
  {
   "cell_type": "code",
   "execution_count": 6,
   "metadata": {},
   "outputs": [],
   "source": [
    "from crawler.domain import Domain\n",
    "from crawler.scheduler import Scheduler\n",
    "from urllib.parse import urlparse\n",
    "\n",
    "dict_filas_por_servidor = {Domain(\"www.globo.com\",10):[\n",
    "                                                (urlparse(\"http://www.globo.com/esporte\"),1),\n",
    "                                                (urlparse(\"http://www.globo.com/noticia_um\"),2),\n",
    "                                                (urlparse(\"http://www.globo.com/noticia_dois\"),3),\n",
    "                                                (urlparse(\"http://www.globo.com/noticia_tres\"),3),\n",
    "                                                ],\n",
    "                            Domain(\"www.cnpq.br\",10):[(urlparse(\"http://www.cnpq.br/pesquisadores\"),1),\n",
    "                                               (urlparse(\"http://www.cnpq.br/bolsas\"),1)]\n",
    "                          }"
   ]
  },
  {
   "cell_type": "markdown",
   "metadata": {},
   "source": [
    "Assim, a classe `Scheduler`, no arquivo `scheduler.py` possui os seguintes atributos: \n",
    "\n",
    "- `str_usr_agent`: Nome do `User agent`. Usualmente, é o nome do navegador, no nosso caso, será o nome do coletor (usualmente, terminado em `bot`)\n",
    "- `page_limit`: Número de páginas a serem coletadas\n",
    "- `depth_limit`: Profundidade máxima a ser coletada\n",
    "- `page_count`: Quantidade de páginas já coletadas\n",
    "- `dic_url_per_domain`: Fila de URLs por domínio (explicado anteriormente)\n",
    "- `set_discovered_urls`: Conjunto de URLs descobertas, ou seja, que foi extraída em algum HTML e já adicionadas na fila - mesmo se já ela foi retirada da fila. A URL armazenada deve ser uma string.\n",
    "- `dic_robots_per_domain`: Dicionário armazenando, para cada domínio, o objeto representando as regras obtidas no `robots.txt`"
   ]
  },
  {
   "cell_type": "markdown",
   "metadata": {},
   "source": [
    "**Atividade 3 - Método `can_add_page`**: Esse método irá retornar verdadeiro caso seja possível adicionar a página `obj_url` (objeto da classe ParseResult) que foi coletada na profundidade `depth`. Para que seja possível adicionar na lista, esta pagina não deve ter sido descoberta e nem com a profundidade maior que o limite. Este método será testado por teste unitário apenas após a implementação da adição e obtenção das URLs."
   ]
  },
  {
   "cell_type": "markdown",
   "metadata": {},
   "source": [
    "**Atividade 4 método `add_new_page` - Adicionar nova página**:  Este método retorna falso caso não seja possível adicionar a página (por meio do método `can_add_page`) e verdadeiro, caso contrário. Caso seja possível, deve-se adicionar a url `obj_url` na fila `dic_url_per_domain`. Lembre-se da estrutura do dicionário `dic_url_per_domain`. Não esqueça de armazenar que esta URL já foi descoberta. Este método será testado por teste unitário apenas após a implementação da obtenção das URLs. Lembre-se de como trabalhar com [dicionários](https://daniel-hasan.github.io/cefet-web-grad/classes/python2/#mais-colecoes)"
   ]
  },
  {
   "cell_type": "markdown",
   "metadata": {},
   "source": [
    "**Atividade 5 método `get_next_url` - obtém a próxima URL da fila**: Este método retona uma tupla `url,profundidade` da próxima URL a ser coletada por meio da fila `dic_url_per_domain` retirando este item da fila. Lembre-se que: \n",
    "    \n",
    "- Ele deverá retornar a primeira URL do primeiro servidor que estiver acessível. \n",
    "- Você deve indicar que o servidor foi acessado \n",
    "- Caso a fila deste servidor esteja vazia, elimine-o do dicionário\n",
    "- Caso não encontre a URL, [coloque a Thread para esperar](https://docs.python.org/2/library/time.html#time.sleep) e, logo após, procure novamente \n",
    "\n",
    "Logo após, você já pode executar o teste unitário para verificar se a obtenção e adição de URLs está correta. Caso haja algum problema, existem já alguns prints comentados no código, descomente-os para verificar se o fluxo está ocorrendo da forma correta. Você deverá entregar sem a exibição desses prints (caso contrário, perderá pontos)."
   ]
  },
  {
   "cell_type": "code",
   "execution_count": 7,
   "metadata": {},
   "outputs": [
    {
     "name": "stdout",
     "output_type": "stream",
     "text": [
      "url:  https://www.terra.com.br/index.html\n",
      "url:  https://www.uol.com.br/\n",
      "url:  https://www.uol.com.br/profMax.html\n",
      "url:  https://www.globo.com.br/profMax.html\n",
      "Verificação da ordem das URLs...\n",
      "Resgatando a segunda página do mesmo dominio...\n",
      "Tempo esperado: 20 segundos\n"
     ]
    },
    {
     "name": "stderr",
     "output_type": "stream",
     "text": [
      ".\n",
      "----------------------------------------------------------------------\n",
      "Ran 1 test in 20.014s\n",
      "\n",
      "OK\n"
     ]
    }
   ],
   "source": [
    "!python3 -m crawler.scheduler_test SchedulerTest.test_add_remove_page"
   ]
  },
  {
   "cell_type": "markdown",
   "metadata": {},
   "source": [
    "**Atividade 6 método `can_fetch_page`**: Este método deve retornar verdadeiro caso a url (Objeto `ParseResult`), passada como parâmetro, pode ser coletada de acordo com o `Robots.txt` do domínio. Para isso, você deve usar o [`RobotFileParser`](https://docs.python.org/3/library/urllib.robotparser.html) para requisitar a URL do `robots.txt` deste domínio. Por razões de performance, você só poderá requisitar o robots.txt uma única vez por domínio. Assim, use o `dic_robots_per_domain` apropriadamente. Execute o teste unitário abaixo para verificar seu funcionamento. "
   ]
  },
  {
   "cell_type": "code",
   "execution_count": 8,
   "metadata": {},
   "outputs": [
    {
     "name": "stderr",
     "output_type": "stream",
     "text": [
      ".\n",
      "----------------------------------------------------------------------\n",
      "Ran 1 test in 22.348s\n",
      "\n",
      "OK\n"
     ]
    }
   ],
   "source": [
    "!python3 -m crawler.scheduler_test SchedulerTest.test_can_fetch"
   ]
  },
  {
   "cell_type": "markdown",
   "metadata": {},
   "source": [
    "**Atividade 7 - Inicialização das sementes no construtor**: No construtor da classe `Scheduler` você deve adicionar as páginas sementes na fila. Tais sementes são passadas pelo parametro `arr_urls_seeds` do construtor. "
   ]
  },
  {
   "cell_type": "code",
   "execution_count": 9,
   "metadata": {},
   "outputs": [
    {
     "name": "stdout",
     "output_type": "stream",
     "text": [
      "url:  cnn.com\n",
      "url:  www.gq.com.au/\n",
      "url:  www.huffingtonpost.com/\n"
     ]
    },
    {
     "name": "stderr",
     "output_type": "stream",
     "text": [
      ".\n",
      "----------------------------------------------------------------------\n",
      "Ran 1 test in 0.000s\n",
      "\n",
      "OK\n"
     ]
    }
   ],
   "source": [
    "!python3 -m crawler.scheduler_test SchedulerTest.test_init"
   ]
  },
  {
   "cell_type": "markdown",
   "metadata": {},
   "source": [
    "Logo após, utize a anotação @synchronized aonde julgar necessário para transformar em ThreadSafe."
   ]
  },
  {
   "cell_type": "markdown",
   "metadata": {},
   "source": [
    "## PageFetcher"
   ]
  },
  {
   "cell_type": "markdown",
   "metadata": {},
   "source": [
    "**Atividade 8 - Efetuar a requisição - método `request_url`:** Neste método você irá fazer a requisição usando a api [requests](https://requests.readthedocs.io/en/master/). Além disso, deve-se informar no cabeçalho (em `User-Agent`) o nome do coletor. O método deverá retornar o conteúdo (em binário) apenas se o conteúdo for HTML (ver no cabeçalho da resposta o tipo do conteúdo). Caso não seja, ele deverá retornar `None`. "
   ]
  },
  {
   "cell_type": "code",
   "execution_count": 10,
   "metadata": {},
   "outputs": [
    {
     "name": "stderr",
     "output_type": "stream",
     "text": [
      ".\n",
      "----------------------------------------------------------------------\n",
      "Ran 1 test in 1.326s\n",
      "\n",
      "OK\n"
     ]
    }
   ],
   "source": [
    "!python3 -m crawler.page_fetcher_test PageFetcherTest.test_request_url"
   ]
  },
  {
   "cell_type": "markdown",
   "metadata": {},
   "source": [
    "**Atividade 9 extração das URLs por meio do método `discover_links`**: A partir do conteúdo (texto em binário) `bin_str_content` deve-se extrair seus os links. O conteúdo esta em binário, pois, o BeautifulSoup, internamente, verifica o encoding por meio da [tag meta](https://www.w3schools.com/tags/att_meta_charset.asp) e converte para UTF8. A URL da página coletada é um objeto ParseResult `obj_url` que está na profundidade `depth`. \n",
    "\n",
    "Para cada URL extraída, você deverá retornar uma tupla com a URL (objeto ParseResult) e a sua profundidade. Utilize o comando `yield` para retornar essas tuplas. A profundidade é calculada de por meio de  `obj_url` e `depth`, conforme comentado em sala de aula. \n",
    "\n",
    "Para a extração dos links, use o [CSS Selector do BeautifulSoup](https://www.crummy.com/software/BeautifulSoup/bs4/doc/#css-selectors). Seletor CSS é uma expressão que define quais elementos HTML serão estilizados pelo CSS. No *Beatifulsoup* eles são usados para selecionar quais tags serão extraídas. Veja o exemplo de uso e brinque abaixo. Caso precise, veja aqui um pouco de seletores CSS: [slides de Web](https://fegemo.github.io/cefet-front-end/classes/css2/#outros-seletores), [documentação MDN](https://developer.mozilla.org/en-US/docs/Web/CSS/CSS_Selectors)."
   ]
  },
  {
   "cell_type": "code",
   "execution_count": 11,
   "metadata": {},
   "outputs": [],
   "source": [
    "from bs4 import BeautifulSoup"
   ]
  },
  {
   "cell_type": "code",
   "execution_count": 2,
   "metadata": {},
   "outputs": [
    {
     "name": "stdout",
     "output_type": "stream",
     "text": [
      "Simulação da extração de links da página https://www.pudim.com.br na profundidade nível 2...\n"
     ]
    },
    {
     "name": "stderr",
     "output_type": "stream",
     "text": [
      ".\n",
      "----------------------------------------------------------------------\n",
      "Ran 1 test in 0.004s\n",
      "\n",
      "OK\n"
     ]
    }
   ],
   "source": [
    "!python3 -m crawler.page_fetcher_test PageFetcherTest.test_discover_links"
   ]
  },
  {
   "cell_type": "markdown",
   "metadata": {},
   "source": [
    "**Atividade 10 - método que solicita uma nova URL**: Por meio do método `crawl_new_url` você deverá utilizar os métodos previamente implementados para:\n",
    "\n",
    "- Solicitar ao escalonador uma nova URL\n",
    "- Fazer a requisição e obter o resultado (em binário)\n",
    "- Caso a URL seja um HTML válido, imprima esta URL e extraia os seus links"
   ]
  },
  {
   "cell_type": "markdown",
   "metadata": {},
   "source": [
    "**Atividade 11 - método run**: Este método deve coletar páginas enquanto a coleta não foi finalizada"
   ]
  },
  {
   "cell_type": "markdown",
   "metadata": {},
   "source": [
    "**Atividade 12 - um pequeno teste para finalizar:** Use as sementes do seu grupo e crie abaixo um escalonador e 5 PageFetchers para extrair 30 páginas. Imprima também o tempo gasto total."
   ]
  },
  {
   "cell_type": "code",
   "execution_count": 2,
   "metadata": {},
   "outputs": [
    {
     "name": "stdout",
     "output_type": "stream",
     "text": [
      "url:  https://www.nytimes.com\n",
      "url:  https://www.bbc.com\n",
      "url:  https://www.g1.globo.com\n",
      "url:  https://www.r7.com/\n",
      "url:  https://www.em.com.br\n",
      "url:  https://www.estadao.com.br/\n",
      "url:  https://www.nytimes.com/\n",
      "url:  https://www.nytimes.com/international/\n",
      "url:  https://www.nytimes.com/ca/\n",
      "url:  https://www.nytimes.com/es/\n",
      "url:  https://cn.nytimes.com\n",
      "url:  https://myaccount.nytimes.com/auth/login?response_type=cookie&client_id=vi&redirect_uri=https%3A%2F%2Fwww.nytimes.com%2Fsubscription%2Fmultiproduct%2Flp8KQUS.html%3FcampaignId%3D7JFJX&asset=masthead\n",
      "url:  https://www.nytimes.com/section/todayspaper\n",
      "url:  https://www.nytimes.com/section/world\n",
      "url:  https://www.nytimes.com/section/us\n",
      "url:  https://www.nytimes.com/section/politics\n",
      "url:  https://www.nytimes.com/section/nyregion\n",
      "url:  https://www.nytimes.com/section/business\n",
      "url:  https://www.nytimes.com/section/opinion\n",
      "url:  https://www.nytimes.com/section/technology\n",
      "url:  https://www.nytimes.com/section/science\n",
      "url:  https://www.nytimes.com/section/health\n",
      "url:  https://www.nytimes.com/section/sports\n",
      "url:  https://www.nytimes.com/section/arts\n",
      "url:  https://www.nytimes.com/section/books\n",
      "url:  https://www.nytimes.com/section/style\n",
      "url:  https://www.nytimes.com/section/food\n",
      "url:  https://www.nytimes.com/section/travel\n",
      "url:  https://www.nytimes.com/section/magazine\n",
      "url:  https://www.nytimes.com/section/t-magazine\n",
      "url:  https://www.nytimes.com/section/realestate\n",
      "url:  https://www.nytimes.com/video\n",
      "url:  https://www.nytimes.com/live/2022/05/15/world/russia-ukraine-war-news\n",
      "url:  https://www.nytimes.com/live/2022/05/15/nyregion/shooting-buffalo-ny\n",
      "url:  https://www.nytimes.com/2022/05/14/nyregion/victims-buffalo-shooting.html\n",
      "url:  https://www.nytimes.com/live/2022/05/14/nyregion/buffalo-shooting/in-buffalo-and-some-other-mass-shootings-a-shared-belief-that-white-people-could-be-wiped-away\n",
      "url:  https://www.nytimes.com/live/2022/05/15/nyregion/shooting-buffalo-ny/classmates-recall-the-suspect-as-quiet-and-reclusive\n",
      "url:  https://www.nytimes.com/2022/05/14/us/covid-one-million-deaths.html\n",
      "url:  https://www.nytimes.com/interactive/2022/05/13/us/covid-deaths-us-one-million.html\n",
      "url:  https://www.nytimes.com/2022/05/15/world/australia/covid-deaths.html\n",
      "url:  https://www.nytimes.com/interactive/2021/us/covid-cases.html\n",
      "url:  https://www.nytimes.com/interactive/2020/us/covid-19-vaccine-doses.html\n",
      "url:  https://www.nytimes.com/interactive/2021/world/covid-cases.html\n",
      "url:  https://www.nytimes.com/interactive/2021/us/mississippi-covid-cases.html\n",
      "url:  https://www.nytimes.com/interactive/2021/us/missouri-covid-cases.html\n",
      "url:  https://www.nytimes.com/interactive/2021/us/arizona-covid-cases.html\n",
      "url:  https://www.nytimes.com/interactive/2021/us/louisiana-covid-cases.html\n",
      "url:  https://www.nytimes.com/interactive/2021/us/covid-cases-deaths-tracker.html\n",
      "url:  https://www.nytimes.com/interactive/2021/world/covid-vaccinations-tracker.html\n",
      "url:  https://www.nytimes.com/2022/05/15/world/europe/pro-russian-war-bloggers-kremlin.html\n",
      "url:  https://www.nytimes.com/2022/05/15/world/europe/transnistria-moldova-russia-ukraine.html\n",
      "url:  https://www.nytimes.com/2022/05/15/us/politics/madison-cawthorn-hendersonville-nc.html\n",
      "url:  https://www.nytimes.com/2022/05/15/us/idaho-republican-primary-little-mcgeachin.html\n",
      "url:  https://www.nytimes.com/2022/05/15/us/politics/john-fetterman-stroke.html\n",
      "url:  https://www.nytimes.com/2022/05/15/us/politics/kathy-barnette-islam-tweets.html\n",
      "url:  https://www.nytimes.com/2022/05/14/us/outer-banks-beach-houses-collapse.html\n",
      "url:  https://www.nytimes.com/2022/05/15/world/africa/somalia-election-president.html\n",
      "url:  https://www.nytimes.com/2022/05/10/magazine/breast-reduction-feminism.html\n",
      "url:  https://www.nytimes.com/2022/05/15/sports/baseball/oakland-athletics-attendance.html\n",
      "url:  https://www.nytimes.com/2022/05/13/arts/music/ukraine-classical-music.html\n",
      "url:  https://www.nytimes.com/2022/05/15/opinion/clarence-thomas-supreme-court.html\n",
      "url:  https://www.nytimes.com/2022/05/15/opinion/dr-oz-trump-senate.html\n",
      "url:  https://www.nytimes.com/2022/05/15/opinion/acting-representation-identity.html\n",
      "url:  https://www.nytimes.com/2022/05/13/opinion/college-university-remote-pandemic.html\n",
      "url:  https://www.nytimes.com/2022/05/14/opinion/ukraine-russia-putin-biden.html\n",
      "url:  https://www.nytimes.com/2022/05/15/opinion/polarization-disagreement.html\n",
      "url:  https://www.nytimes.com/2022/05/14/opinion/catholic-roe-abortion-supreme-court.html\n",
      "url:  https://www.nytimes.com/2022/05/14/opinion/student-debt-cancel.html\n",
      "url:  https://www.nytimes.com/2022/05/14/opinion/letters/abortion-roe-v-wade.html\n",
      "url:  https://www.nytimes.com/2022/05/14/opinion/sunday/rich-happiness-big-data.html\n",
      "url:  https://www.nytimes.com/2022/05/14/opinion/gas-prices-oil-renewable-energy-drilling.html\n",
      "url:  https://www.nytimes.com/2022/05/14/opinion/protest-supreme-court-roe.html\n",
      "url:  https://www.nytimes.com/2022/05/14/opinion/overcoming-fear-anxiety.html\n",
      "url:  https://www.nytimes.com/2022/05/11/opinion/roe-v-wade-senate.html\n",
      "url:  https://www.nytimes.com/2022/05/13/opinion/ukraine-hospitals-attacks.html\n",
      "url:  https://www.nytimes.com/2022/05/13/opinion/baby-formula.html\n",
      "url:  https://www.nytimes.com/spotlight/2022-pulitzer-airstrikes-gone-wrong\n",
      "url:  https://www.nytimes.com/spotlight/2022-pulitzer-deadly-police-encounters\n",
      "url:  https://www.nytimes.com/spotlight/2022-pulitzer-salamishah-tillet\n",
      "url:  https://www.nytimes.com/2022/05/15/podcasts/the-daily/van-life-millennials-sunday-read.html\n",
      "url:  https://www.nytimes.com/2022/05/11/opinion/what-mays-primaries-tell-us-about-the-populism-of-resentment-shaping-the-gop.html\n",
      "url:  https://www.nytimes.com/2022/05/07/books/molly-young-recommends-books.html\n",
      "url:  https://www.nytimes.com/2022/05/13/dining/weeknight-egg-recipes.html\n",
      "url:  https://www.nytimes.com/2022/05/15/business/electric-snowmobiles-boats-mowers.html\n",
      "url:  https://www.nytimes.com/2022/05/15/world/europe/germany-elections-scholz.html\n",
      "url:  https://www.nytimes.com/2022/05/14/business/dealbook/working-with-long-covid.html\n",
      "url:  https://www.nytimes.com/2022/05/15/science/total-lunar-eclipse-blood-moon-how-to-watch.html\n",
      "url:  https://www.nytimes.com/2022/05/15/us/california-church-shooting-laguna-woods.html\n",
      "url:  https://www.nytimes.com/2022/05/14/arts/ukraine-wins-eurovision.html\n",
      "url:  https://www.nytimes.com/2022/05/15/sports/baseball/hunter-greene-reds-no-hitter.html\n",
      "url:  https://www.nytimes.com/2022/05/15/us/politics/michael-sussmann-trial-trump-russia.html\n",
      "url:  https://www.nytimes.com/2022/05/15/us/tennessee-nurse-sentencing.html\n",
      "url:  https://www.nytimes.com/2022/05/15/business/business-travel.html\n",
      "url:  https://www.nytimes.com/2022/05/15/us/florida-good-samaritans-medical-episode.html\n",
      "url:  https://www.nytimes.com/2022/05/14/arts/britney-spears-miscarriage.html\n",
      "url:  https://www.nytimes.com/2022/05/13/well/mind/cerebral-adhd-medication-tiktok.html\n",
      "url:  https://www.nytimes.com/2022/05/12/well/live/snoring-causes-solutions.html\n",
      "url:  https://www.nytimes.com/2022/05/11/well/homemade-baby-formula.html\n",
      "url:  https://www.nytimes.com/2021/03/04/well/alcohol-cancer-risk.html\n",
      "url:  https://www.nytimes.com/interactive/2022/05/12/well/live/12HealthQuiz-05122022.html\n",
      "url:  https://www.nytimes.com/2022/05/13/style/sascha-feldman-jacob-esocoff-wedding.html\n",
      "url:  https://www.nytimes.com/2022/05/13/nyregion/jane-lynch.html\n",
      "url:  https://www.nytimes.com/2022/05/15/books/review/camille-kouchner-the-familia-grande.html\n",
      "url:  https://www.nytimes.com/2022/05/12/arts/television/the-time-travelers-wife-review.html\n",
      "url:  https://www.nytimes.com/2022/05/13/sports/delaware-state-lacrosse-team-bus.html\n",
      "url:  https://www.nytimes.com/puzzles/spelling-bee\n",
      "url:  https://www.nytimes.com/games/wordle/index.html\n",
      "url:  https://www.nytimes.com/crosswords\n",
      "url:  https://www.nytimes.com/subscription/games\n",
      "url:  https://www.nytimes.com/puzzles/letter-boxed\n",
      "url:  https://www.nytimes.com/puzzles/tiles\n",
      "url:  https://help.nytimes.com/hc/en-us/articles/115014792127-Copyright-notice\n",
      "url:  https://www.nytco.com/\n",
      "url:  https://help.nytimes.com/hc/en-us/articles/115015385887-Contact-Us\n",
      "url:  https://help.nytimes.com/hc/en-us/articles/115015727108-Accessibility\n",
      "url:  https://www.nytco.com/careers/\n",
      "url:  https://nytmediakit.com/\n",
      "url:  https://www.tbrandstudio.com/\n",
      "url:  https://www.nytimes.com/privacy/cookie-policy#how-do-i-manage-trackers\n",
      "url:  https://www.nytimes.com/privacy/privacy-policy\n",
      "url:  https://help.nytimes.com/hc/en-us/articles/115014893428-Terms-of-service\n",
      "url:  https://help.nytimes.com/hc/en-us/articles/115014893968-Terms-of-sale\n",
      "url:  https://www.nytimes.com/sitemap/\n",
      "url:  https://www.nytimes.com/ca/?action=click&region=Footer&pgtype=Homepage\n",
      "url:  https://www.nytimes.com/international/?action=click&region=Footer&pgtype=Homepage\n",
      "url:  https://help.nytimes.com/hc/en-us\n",
      "url:  https://www.nytimes.com/subscription?campaignId=37WXW\n",
      "url:  https://www.bbc.co.uk\n",
      "url:  https://www.bbc.com/\n",
      "url:  https://www.bbc.co.uk/accessibility/\n",
      "url:  https://account.bbc.com/account\n",
      "url:  https://www.bbc.co.uk/notifications\n",
      "url:  https://www.bbc.co.uk/news\n",
      "url:  https://www.bbc.co.uk/sport\n",
      "url:  https://www.bbc.co.uk/weather\n",
      "url:  https://www.bbc.co.uk/iplayer\n",
      "url:  https://www.bbc.co.uk/sounds\n",
      "url:  https://www.bbc.co.uk/bitesize\n",
      "url:  https://www.bbc.co.uk/cbeebies\n",
      "url:  https://www.bbc.co.uk/cbbc\n",
      "url:  https://www.bbc.co.uk/food\n",
      "url:  https://www.bbc.com/news\n",
      "url:  https://www.bbc.com/sport\n",
      "url:  https://www.bbc.com/reel\n",
      "url:  https://www.bbc.com/worklife\n",
      "url:  https://www.bbc.com/travel\n",
      "url:  https://www.bbc.com/future\n",
      "url:  https://www.bbc.com/culture\n",
      "url:  https://www.bbc.co.uk/schedules/p00fzl9m\n",
      "url:  https://www.bbc.com/weather\n",
      "url:  https://search.bbc.co.uk/search?scope=all\n",
      "url:  https://www.bbc.com/news/world-us-canada-61459023\n",
      "url:  https://www.bbc.com/news/world/us_and_canada\n",
      "url:  https://www.bbc.com/news/world-us-canada-61459962\n",
      "url:  https://www.bbc.com/news/world-europe-61457622\n",
      "url:  https://www.bbc.com/news/world/europe\n",
      "url:  https://www.bbc.com/sport/football/61457768\n",
      "url:  https://www.bbc.com/sport/football\n",
      "url:  https://www.bbc.com/news/world-europe-61456726\n",
      "url:  https://www.bbc.com/news/uk-61460345\n",
      "url:  https://www.bbc.com/news/uk\n",
      "url:  https://www.bbc.com/news/world-africa-61438047\n",
      "url:  https://www.bbc.com/news/world/africa\n",
      "url:  https://www.bbc.com/news/science-environment-61423765\n",
      "url:  https://www.bbc.com/news/science_and_environment\n",
      "url:  https://www.bbc.com/sport/football/61459476\n",
      "url:  https://www.bbc.com/sport/football/61435273\n",
      "url:  https://www.bbc.com/sport/rugby-union/61458847\n",
      "url:  https://www.bbc.com/sport/rugby-union\n",
      "url:  https://www.bbc.com/future/article/20220510-why-are-there-continent-sized-blobs-in-the-deep-earth\n",
      "url:  http://www.bbc.com/future\n",
      "url:  https://www.bbc.com/culture/article/20220509-conversations-with-friends-the-new-normal-people\n",
      "url:  http://www.bbc.com/culture\n",
      "url:  https://www.bbc.com/worklife/article/20220505-the-office-spaces-transforming-into-luxury-apartments\n",
      "url:  http://www.bbc.com/worklife\n",
      "url:  https://www.bbc.com/weather/2643743\n",
      "url:  https://www.bbc.com/reel/video/p0c6k16c/the-forgotten-genius-who-invented-our-future\n",
      "url:  https://www.bbc.com/reel/video/p0c664wj/was-thor-really-an-all-conquering-hero-\n",
      "url:  https://www.bbc.com/reel/video/p0c5mvlh/can-supersonic-flight-ever-be-sustainable-\n",
      "url:  https://www.bbc.com/future/article/20220510-the-revealing-abandoned-junk-of-former-soviet-nuclear-bases\n",
      "url:  https://www.bbc.com/worklife/article/20220511-the-working-job-interviews-that-go-too-far\n",
      "url:  https://www.bbc.com/travel/article/20220515-the-can-do-attitude-that-defines-hong-kong\n",
      "url:  https://www.bbc.com/culture/article/20220512-the-people-who-danced-themselves-to-death\n",
      "url:  https://www.bbc.com/culture/article/20220511-how-nature-and-extreme-wilding-can-re-boot-our-minds\n",
      "url:  https://www.bbc.com/culture/the-collection\n",
      "url:  https://www.bbc.com/news/world-61416766\n",
      "url:  https://www.bbc.com/news/world\n",
      "url:  https://www.bbc.co.uk/food/articles/wine_tasting\n",
      "url:  https://www.bbc.com/news/business-61455301\n",
      "url:  https://www.bbc.com/news/business-61460378\n",
      "url:  https://www.bbc.com/news/business-61442432\n",
      "url:  https://www.bbc.com/news/business-61433724\n",
      "url:  https://www.bbc.com/news/world-asia-61434304\n",
      "url:  https://www.bbc.com/future/future-planet\n",
      "url:  https://www.bbc.com/future/article/20220506-the-uk-climate-refugees-who-wont-leave\n",
      "url:  https://www.bbc.com/future/article/20220427-how-taiwan-discovered-an-active-volcano-on-its-doorstep\n",
      "url:  https://www.bbc.com/future/article/20220414-how-africas-forest-elephants-help-fight-climate-change\n",
      "url:  https://www.bbc.com/news/business-11428889\n",
      "url:  https://www.bbc.com/news/business\n",
      "url:  https://www.bbc.com/news/business-61346885\n",
      "url:  https://www.bbc.com/news/business-45489065\n",
      "url:  https://www.bbc.com/news/business-61305704\n",
      "url:  https://www.bbc.com/news/stories-61412333\n",
      "url:  https://www.bbc.com/news/stories\n",
      "url:  https://www.bbc.com/news/uk-60431246\n",
      "url:  https://www.bbc.com/news/world-australia-60418525\n",
      "url:  https://www.bbc.com/news/world/australia\n",
      "url:  https://www.bbc.com/news/entertainment-arts-61453632\n",
      "url:  https://www.bbc.com/news/entertainment_and_arts\n",
      "url:  https://www.bbc.com/news/uk-northern-ireland-61396942\n",
      "url:  https://www.bbc.com/news/northern_ireland\n",
      "url:  https://www.bbc.com/news/uk-40358825\n",
      "url:  https://www.bbc.com/news/world-us-canada-40362067\n",
      "url:  https://www.bbc.com/news/world-australia-40365981\n",
      "url:  https://www.bbc.com/news/world-middle-east-40366136\n",
      "url:  https://www.bbc.com/news/world/middle_east\n",
      "url:  https://www.bbc.com/news/world-asia-40360168\n",
      "url:  https://www.bbc.com/news/world/asia\n",
      "url:  https://www.bbc.com/news/world-us-canada-61451922\n",
      "url:  https://www.bbc.com/news/entertainment-arts-61431015\n",
      "url:  https://www.bbc.com/news/world-us-canada-61450144\n",
      "url:  https://www.bbc.com/news/10462520\n",
      "url:  https://www.bbc.com/news/video_and_audio\n",
      "url:  https://www.bbc.com/news/uk-england-hampshire-61428344\n",
      "url:  https://www.bbc.com/news/england/hampshire\n",
      "url:  http://www.bbc.co.uk/worldserviceradio/\n",
      "url:  http://www.bbc.co.uk/programmes/p002vsxt\n",
      "url:  https://www.bbc.com/news/entertainment-arts-61452678\n",
      "url:  https://www.bbc.co.uk/news/business-61153251\n",
      "url:  http://www.bbc.com/news/business/\n",
      "url:  https://www.bbc.co.uk/sounds/play/w3ct3751\n",
      "url:  http://www.bbc.com/news/technology/\n",
      "url:  https://www.bbc.com/news/science-environment-61452860\n",
      "url:  https://www.bbc.com/news/world-asia-61450255\n",
      "url:  https://www.bbc.com/news/science-environment-61412463\n",
      "url:  https://www.bbc.com/news/entertainment-arts-61450874\n",
      "url:  https://www.bbc.com/news/uk-61436311\n",
      "url:  https://www.bbc.com/news/world-asia-india-61429270\n",
      "url:  https://www.bbc.com/news/business-61373482\n",
      "url:  https://www.bbc.com/news/science-environment-61397102\n",
      "url:  https://www.bbc.com/news/uk-england-shropshire-61353540\n",
      "url:  https://www.bbc.com/news/world-asia-india-61330302\n",
      "url:  https://www.bbc.com/news/science-environment-61326413\n",
      "url:  https://www.bbc.com/news/business-61324482\n",
      "url:  https://www.bbc.com/news/business-61174482\n",
      "url:  https://www.bbc.com/news/business-15521824\n",
      "url:  https://www.bbc.com/news/business-61257368\n",
      "url:  https://www.bbc.com/news/in_pictures\n",
      "url:  https://www.bbc.com/news/in-pictures-61439494\n",
      "url:  https://www.bbc.com/news/in-pictures-61073684\n",
      "url:  https://www.bbc.com/news/world-africa-61399819\n",
      "url:  https://www.bbc.com/news/world-asia-india-61389834\n",
      "url:  https://www.bbc.com/news/world/asia/india\n",
      "url:  https://www.bbc.com/news/world-middle-east-61394416\n",
      "url:  https://www.bbc.com/worldserviceradio\n",
      "url:  https://www.bbc.com/russian/\n",
      "url:  https://www.bbc.com/russian/live/news-61446547\n",
      "url:  https://www.bbc.com/mundo/\n",
      "url:  https://www.bbc.com/mundo/noticias-internacional-61460182\n",
      "url:  https://www.bbc.com/persian/\n",
      "url:  https://www.bbc.com/persian/iran-61455361\n",
      "url:  https://www.bbc.com/portuguese/\n",
      "url:  https://www.bbc.com/portuguese/geral-61392540\n",
      "url:  https://www.bbc.com/ws/languages\n",
      "url:  https://www.bbc.com/arabic/\n",
      "url:  https://www.bbc.com/azeri/\n",
      "url:  https://www.bbc.com/bengali/\n",
      "url:  https://www.bbc.com/burmese/\n",
      "url:  https://www.bbc.com/zhongwen/simp/\n",
      "url:  https://www.bbc.com/afrique/\n",
      "url:  https://www.bbc.com/hausa/\n",
      "url:  https://www.bbc.com/hindi/\n",
      "url:  https://www.bbc.com/indonesia/\n",
      "url:  https://www.bbc.com/japanese/\n",
      "url:  https://www.bbc.com/gahuza/\n",
      "url:  https://www.bbc.com/kyrgyz/\n",
      "url:  https://www.bbc.com/marathi/\n",
      "url:  https://www.bbc.com/nepali/\n",
      "url:  https://www.bbc.com/pashto/\n",
      "url:  https://www.bbc.com/sinhala/\n",
      "url:  https://www.bbc.com/somali/\n",
      "url:  https://www.bbc.com/swahili/\n",
      "url:  https://www.bbc.com/tamil/\n",
      "url:  https://www.bbc.com/turkce/\n",
      "url:  https://www.bbc.com/ukrainian/\n",
      "url:  https://www.bbc.com/urdu/\n",
      "url:  https://www.bbc.com/uzbek/\n",
      "url:  https://www.bbc.com/vietnamese/\n",
      "url:  https://www.bbc.co.uk/usingthebbc/terms/\n",
      "url:  https://www.bbc.co.uk/aboutthebbc\n",
      "url:  https://www.bbc.co.uk/usingthebbc/privacy/\n",
      "url:  https://www.bbc.co.uk/usingthebbc/cookies/\n",
      "url:  https://www.bbc.co.uk/guidance\n",
      "url:  https://www.bbc.co.uk/contact\n",
      "url:  https://www.bbc.co.uk/bbcnewsletter\n",
      "url:  https://www.bbcglobalnews.com/\n",
      "url:  https://www.bbc.com/usingthebbc/cookies/how-does-the-bbc-use-cookies-for-advertising/\n",
      "url:  https://www.bbc.co.uk/editorialguidelines/guidance/feeds-and-links\n",
      "tempo gasto:  1.5255236625671387\n"
     ]
    }
   ],
   "source": [
    "from crawler.scheduler import Scheduler\n",
    "from crawler.page_fetcher import PageFetcher\n",
    "from multiprocessing import Process\n",
    "from urllib.parse import urlparse\n",
    "import time\n",
    "\n",
    "start = time.time()\n",
    "\n",
    "page_limit = 500\n",
    "depth_limit = 3\n",
    "\n",
    "# ''\n",
    "urls = ['https://www.nytimes.com',\n",
    "        'https://www.bbc.com', 'https://www.g1.globo.com',\n",
    "        'https://www.r7.com/', 'https://www.em.com.br',\n",
    "        'https://www.estadao.com.br/']\n",
    "\n",
    "# https://stackoverflow.com/questions/1545050/python-one-line-for-expression\n",
    "urls_parsed = [urlparse(url) for url in urls]\n",
    "scheduler = Scheduler('Savinho/0.1', page_limit, depth_limit, urls_parsed)\n",
    "page_fetchers = [PageFetcher(scheduler) for _ in range(5)]\n",
    "\n",
    "# https://docs.python.org/3/library/multiprocessing.html\n",
    "for page_fetcher in page_fetchers:\n",
    "    p = Process(target=page_fetcher.run())\n",
    "    p.start()\n",
    "    p.join()\n",
    "\n",
    "\n",
    "end = time.time()\n",
    "\n",
    "print('tempo gasto: ', end - start)"
   ]
  },
  {
   "cell_type": "markdown",
   "metadata": {},
   "source": [
    "# Bibliografia\n",
    "\n",
    "Baeza-Yates, Ricardo; Ribeiro-Neto, Berthier. **Modern information retrieval: the concepts and technology behind search**. ACM Press, 2011.\n",
    "\n",
    "Batista, Natércia ; Brandão, Michele ; Pinheiro, Michele ; Dalip, Daniel ; Moro, Mirella . **[Dados de Múltiplas Fontes da Web: coleta, integração e pré-processamento](https://sol.sbc.org.br/livros/index.php/sbc/catalog/download/8/19/58-1?inline=1)**. Minicursos do XXIV Simpósio Brasileiro de Sistemas Multimídia e Web. 1ed.: Sociedade Brasileira de Computação, 2018, v. , p. 153-192."
   ]
  }
 ],
 "metadata": {
  "interpreter": {
   "hash": "ba76eceb568c00ecaded1fb3a121ff8a78fda47068db7d663d29d676572fc397"
  },
  "kernelspec": {
   "display_name": "Python 3.9.9 64-bit (windows store)",
   "language": "python",
   "name": "python3"
  },
  "language_info": {
   "codemirror_mode": {
    "name": "ipython",
    "version": 3
   },
   "file_extension": ".py",
   "mimetype": "text/x-python",
   "name": "python",
   "nbconvert_exporter": "python",
   "pygments_lexer": "ipython3",
   "version": "3.9.9"
  }
 },
 "nbformat": 4,
 "nbformat_minor": 2
}
